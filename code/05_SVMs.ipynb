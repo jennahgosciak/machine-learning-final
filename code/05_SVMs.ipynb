{
 "cells": [
  {
   "cell_type": "code",
   "execution_count": 1,
   "metadata": {},
   "outputs": [],
   "source": [
    "# setup\n",
    "import pandas as pd\n",
    "import numpy as np\n",
    "import matplotlib.pyplot as pl\n",
    "import http.client, urllib.request, urllib.parse, urllib.error, base64\n",
    "# import config\n",
    "import quickstart"
   ]
  },
  {
   "cell_type": "code",
   "execution_count": 2,
   "metadata": {},
   "outputs": [
    {
     "name": "stdout",
     "output_type": "stream",
     "text": [
      "Your browser has been opened to visit:\n",
      "\n",
      "    https://accounts.google.com/o/oauth2/auth?client_id=570719947456-53haph7mjc317oel1ujh0kmjbfd499jf.apps.googleusercontent.com&redirect_uri=http%3A%2F%2Flocalhost%3A8080%2F&scope=https%3A%2F%2Fwww.googleapis.com%2Fauth%2Fdrive&access_type=offline&response_type=code\n",
      "\n",
      "Authentication successful.\n"
     ]
    }
   ],
   "source": [
    "from pydrive.auth import GoogleAuth\n",
    "\n",
    "gauth = GoogleAuth()\n",
    "gauth.LocalWebserverAuth() # Creates local webserver and auto handles authentication."
   ]
  },
  {
   "cell_type": "code",
   "execution_count": 28,
   "metadata": {},
   "outputs": [
    {
     "name": "stdout",
     "output_type": "stream",
     "text": [
      "Title: analysis_box.csv, ID: 1Vzjvta98IG9Hg4SfAGcd8JD8FaF3IXwy\n",
      "Title: analysis_bbl.csv, ID: 1yYX-ROr1c7fzcQiG6NZ1sh7Ko5gqr_4G\n",
      "Title: analysis_bbl_noacs.csv, ID: 1h-tDpBSslfzqzsJe1ny_ujDnr68RKry3\n",
      "Title: borobox_convex_hull.geojson, ID: 1SzBNj3Ba-v9MEwuCkZT9e9iAwVYUqx8r\n"
     ]
    }
   ],
   "source": [
    "from pydrive.drive import GoogleDrive\n",
    "drive = GoogleDrive(gauth)\n",
    "fileList = drive.ListFile({'q': \"'1jxSI_nq32-W9kPHKvQkzuNGJ5aIBD2j2' in parents and trashed=false\"}).GetList()\n",
    "for file in fileList:\n",
    "  print('Title: %s, ID: %s' % (file['title'], file['id']))\n",
    "  # Get the folder ID that you want\n",
    "  if(file['title'] == \"To Share\"):\n",
    "      fileID = file['id']"
   ]
  },
  {
   "cell_type": "code",
   "execution_count": 29,
   "metadata": {},
   "outputs": [],
   "source": [
    "csv = drive.CreateFile({'id': '1yYX-ROr1c7fzcQiG6NZ1sh7Ko5gqr_4G'})\n",
    "csv.GetContentFile('analysis_bbl.csv')  \n",
    "\n",
    "df = pd.read_csv('analysis_bbl.csv')"
   ]
  },
  {
   "cell_type": "code",
   "execution_count": 32,
   "metadata": {},
   "outputs": [
    {
     "name": "stderr",
     "output_type": "stream",
     "text": [
      "/opt/homebrew/anaconda3/envs/geo_env/lib/python3.10/site-packages/openpyxl/worksheet/_reader.py:312: UserWarning: Unknown extension is not supported and will be removed\n",
      "  warn(msg)\n"
     ]
    },
    {
     "data": {
      "text/html": [
       "<div>\n",
       "<style scoped>\n",
       "    .dataframe tbody tr th:only-of-type {\n",
       "        vertical-align: middle;\n",
       "    }\n",
       "\n",
       "    .dataframe tbody tr th {\n",
       "        vertical-align: top;\n",
       "    }\n",
       "\n",
       "    .dataframe thead th {\n",
       "        text-align: right;\n",
       "    }\n",
       "</style>\n",
       "<table border=\"1\" class=\"dataframe\">\n",
       "  <thead>\n",
       "    <tr style=\"text-align: right;\">\n",
       "      <th></th>\n",
       "      <th>Variable</th>\n",
       "      <th>Description</th>\n",
       "      <th>Source</th>\n",
       "      <th>Notes</th>\n",
       "      <th>Include_BBL</th>\n",
       "      <th>Include_Box</th>\n",
       "    </tr>\n",
       "  </thead>\n",
       "  <tbody>\n",
       "    <tr>\n",
       "      <th>0</th>\n",
       "      <td>geofips</td>\n",
       "      <td>census tract geo identifier</td>\n",
       "      <td>Census ACS</td>\n",
       "      <td>NaN</td>\n",
       "      <td>0</td>\n",
       "      <td>0</td>\n",
       "    </tr>\n",
       "    <tr>\n",
       "      <th>1</th>\n",
       "      <td>geofips_recode</td>\n",
       "      <td>census tract geo identifier, changes county to...</td>\n",
       "      <td>Census ACS</td>\n",
       "      <td>NaN</td>\n",
       "      <td>0</td>\n",
       "      <td>0</td>\n",
       "    </tr>\n",
       "    <tr>\n",
       "      <th>2</th>\n",
       "      <td>totpop</td>\n",
       "      <td>total population</td>\n",
       "      <td>Census ACS</td>\n",
       "      <td>NaN</td>\n",
       "      <td>1</td>\n",
       "      <td>1</td>\n",
       "    </tr>\n",
       "    <tr>\n",
       "      <th>3</th>\n",
       "      <td>popdens</td>\n",
       "      <td>total population per square mile</td>\n",
       "      <td>Census ACS</td>\n",
       "      <td>NaN</td>\n",
       "      <td>1</td>\n",
       "      <td>1</td>\n",
       "    </tr>\n",
       "    <tr>\n",
       "      <th>4</th>\n",
       "      <td>areasqmile</td>\n",
       "      <td>area</td>\n",
       "      <td>Census ACS</td>\n",
       "      <td>NaN</td>\n",
       "      <td>1</td>\n",
       "      <td>1</td>\n",
       "    </tr>\n",
       "  </tbody>\n",
       "</table>\n",
       "</div>"
      ],
      "text/plain": [
       "         Variable                                        Description  \\\n",
       "0         geofips                        census tract geo identifier   \n",
       "1  geofips_recode  census tract geo identifier, changes county to...   \n",
       "2          totpop                                   total population   \n",
       "3         popdens                   total population per square mile   \n",
       "4      areasqmile                                               area   \n",
       "\n",
       "       Source Notes  Include_BBL  Include_Box  \n",
       "0  Census ACS   NaN            0            0  \n",
       "1  Census ACS   NaN            0            0  \n",
       "2  Census ACS   NaN            1            1  \n",
       "3  Census ACS   NaN            1            1  \n",
       "4  Census ACS   NaN            1            1  "
      ]
     },
     "execution_count": 32,
     "metadata": {},
     "output_type": "execute_result"
    }
   ],
   "source": [
    "# load codebook        \n",
    "codebk = drive.CreateFile({'id': '1Lf7kV9_R-caFZV6_l8hMxAVjFSVFhvYl'})\n",
    "codebk.GetContentFile('codebook.xlsx')  \n",
    "\n",
    "codebk= pd.read_excel('codebook.xlsx', sheet_name = \"predictors\")\n",
    "codebk.head()"
   ]
  },
  {
   "cell_type": "code",
   "execution_count": 33,
   "metadata": {},
   "outputs": [
    {
     "data": {
      "text/plain": [
       "2            totpop\n",
       "3           popdens\n",
       "4        areasqmile\n",
       "5             males\n",
       "6           females\n",
       "           ...     \n",
       "164    bldgclass_A2\n",
       "165    bldgclass_A0\n",
       "166    bldgclass_A6\n",
       "167    bldgclass_A8\n",
       "168    bldgclass_CM\n",
       "Name: Variable, Length: 150, dtype: object"
      ]
     },
     "execution_count": 33,
     "metadata": {},
     "output_type": "execute_result"
    }
   ],
   "source": [
    "predictors_full = codebk.loc[codebk[\"Include_Box\"] == 1, \"Variable\"].apply(lambda x: x.strip())\n",
    "predictors_full"
   ]
  },
  {
   "cell_type": "code",
   "execution_count": 34,
   "metadata": {},
   "outputs": [
    {
     "data": {
      "text/plain": [
       "765026"
      ]
     },
     "execution_count": 34,
     "metadata": {},
     "output_type": "execute_result"
    }
   ],
   "source": [
    "csv = df\n",
    "csv.shape[0]\n",
    "csv = csv.dropna()\n",
    "csv.shape[0]"
   ]
  },
  {
   "cell_type": "code",
   "execution_count": 35,
   "metadata": {},
   "outputs": [],
   "source": [
    "X = csv.loc[:, predictors_full]\n",
    "Y = csv[[\"vacate_ind\"]]"
   ]
  },
  {
   "cell_type": "code",
   "execution_count": 43,
   "metadata": {},
   "outputs": [],
   "source": [
    "# from sklearn import preprocessing\n",
    "# X_scaled = preprocessing.scale(X)\n",
    "# X=X_scaled\n",
    "# print(pd.DataFrame(X).head())"
   ]
  },
  {
   "cell_type": "code",
   "execution_count": 36,
   "metadata": {},
   "outputs": [],
   "source": [
    "from sklearn import preprocessing\n",
    "min_max_scaler = preprocessing.MinMaxScaler()\n",
    "resultsScaled = min_max_scaler.fit_transform(X)\n",
    "X = resultsScaled"
   ]
  },
  {
   "cell_type": "code",
   "execution_count": 37,
   "metadata": {},
   "outputs": [],
   "source": [
    "from sklearn.model_selection import train_test_split\n",
    "X_train, X_test, Y_train, Y_test = train_test_split(X, Y, test_size=0.33, random_state=90)"
   ]
  },
  {
   "cell_type": "code",
   "execution_count": 38,
   "metadata": {},
   "outputs": [
    {
     "data": {
      "text/plain": [
       "(512567,)"
      ]
     },
     "execution_count": 38,
     "metadata": {},
     "output_type": "execute_result"
    }
   ],
   "source": [
    "X_hadFires = pd.DataFrame(X_train[Y_train[\"vacate_ind\"] == 1])\n",
    "X_noFires = pd.DataFrame(X_train[Y_train[\"vacate_ind\"] == 0])\n",
    "X_noFires = X_noFires\n",
    "\n",
    "Y_hadFires = Y_train.loc[Y_train[\"vacate_ind\"] == 1, \"vacate_ind\"]\n",
    "Y_noFires = Y_train.loc[Y_train[\"vacate_ind\"] == 0, \"vacate_ind\"]\n",
    "\n",
    "X_train_sub = pd.concat([X_hadFires, X_noFires], axis=0)\n",
    "Y_train_sub = pd.concat([Y_hadFires, Y_noFires], axis=0)\n",
    "Y_train_sub.shape"
   ]
  },
  {
   "cell_type": "code",
   "execution_count": 39,
   "metadata": {},
   "outputs": [],
   "source": [
    "#from sklearn import svm\n",
    "from sklearn.svm import LinearSVC\n",
    "clf = LinearSVC(tol=1e-1, random_state=0)"
   ]
  },
  {
   "cell_type": "code",
   "execution_count": 40,
   "metadata": {},
   "outputs": [
    {
     "data": {
      "text/plain": [
       "LinearSVC(random_state=0, tol=0.1)"
      ]
     },
     "execution_count": 40,
     "metadata": {},
     "output_type": "execute_result"
    }
   ],
   "source": [
    "clf.fit(X_train_sub, np.asarray(Y_train_sub))"
   ]
  },
  {
   "cell_type": "code",
   "execution_count": 49,
   "metadata": {},
   "outputs": [
    {
     "name": "stdout",
     "output_type": "stream",
     "text": [
      "Out of sample, linear model successfully predicts 0.9965222075663771 percent of the data\n"
     ]
    }
   ],
   "source": [
    "correct=1.0*(clf.predict(X_test) == np.asarray(Y_test).reshape(1,X_test.shape[0])).sum()/len(Y_test)\n",
    "print(\"Out of sample, linear model successfully predicts {} percent of the data\".format((correct)))"
   ]
  },
  {
   "cell_type": "code",
   "execution_count": 50,
   "metadata": {},
   "outputs": [
    {
     "name": "stdout",
     "output_type": "stream",
     "text": [
      "accuracy:  0.9965222075663771\n",
      "precision:  0.4090909090909091\n",
      "recall:  0.010297482837528604\n",
      "f1:  0.020089285714285712\n",
      "area under curve (auc):  0.5051229052202628\n"
     ]
    }
   ],
   "source": [
    "from sklearn import metrics\n",
    "preds = clf.predict(X_test)\n",
    "# X_train, X_test, Y_train, Y_test\n",
    "targs = Y_test\n",
    "print(\"accuracy: \", metrics.accuracy_score(targs, preds))\n",
    "print(\"precision: \", metrics.precision_score(targs, preds)) \n",
    "print(\"recall: \", metrics.recall_score(targs, preds))\n",
    "print(\"f1: \", metrics.f1_score(targs, preds))\n",
    "print(\"area under curve (auc): \", metrics.roc_auc_score(targs, preds))\n",
    "test_preds = preds"
   ]
  },
  {
   "cell_type": "code",
   "execution_count": 51,
   "metadata": {},
   "outputs": [
    {
     "name": "stdout",
     "output_type": "stream",
     "text": [
      "[0. 0. 0. ... 0. 0. 0.]\n"
     ]
    }
   ],
   "source": [
    "# preds = clf.predict(X)\n",
    "# print(preds)\n",
    "# values = pd.DataFrame(preds)\n",
    "# values.to_csv('values1.csv')"
   ]
  },
  {
   "cell_type": "code",
   "execution_count": 52,
   "metadata": {},
   "outputs": [
    {
     "data": {
      "text/html": [
       "<div>\n",
       "<style scoped>\n",
       "    .dataframe tbody tr th:only-of-type {\n",
       "        vertical-align: middle;\n",
       "    }\n",
       "\n",
       "    .dataframe tbody tr th {\n",
       "        vertical-align: top;\n",
       "    }\n",
       "\n",
       "    .dataframe thead th {\n",
       "        text-align: right;\n",
       "    }\n",
       "</style>\n",
       "<table border=\"1\" class=\"dataframe\">\n",
       "  <thead>\n",
       "    <tr style=\"text-align: right;\">\n",
       "      <th></th>\n",
       "      <th>boroct2010</th>\n",
       "      <th>bbl</th>\n",
       "      <th>prob_vacate_bl</th>\n",
       "    </tr>\n",
       "  </thead>\n",
       "  <tbody>\n",
       "    <tr>\n",
       "      <th>0</th>\n",
       "      <td>1018100</td>\n",
       "      <td>1012090027</td>\n",
       "      <td>0.0</td>\n",
       "    </tr>\n",
       "    <tr>\n",
       "      <th>1</th>\n",
       "      <td>1018100</td>\n",
       "      <td>1012090028</td>\n",
       "      <td>0.0</td>\n",
       "    </tr>\n",
       "    <tr>\n",
       "      <th>2</th>\n",
       "      <td>1018100</td>\n",
       "      <td>1012090037</td>\n",
       "      <td>0.0</td>\n",
       "    </tr>\n",
       "    <tr>\n",
       "      <th>3</th>\n",
       "      <td>1018100</td>\n",
       "      <td>1012090049</td>\n",
       "      <td>0.0</td>\n",
       "    </tr>\n",
       "    <tr>\n",
       "      <th>4</th>\n",
       "      <td>1018100</td>\n",
       "      <td>1012090051</td>\n",
       "      <td>0.0</td>\n",
       "    </tr>\n",
       "    <tr>\n",
       "      <th>...</th>\n",
       "      <td>...</td>\n",
       "      <td>...</td>\n",
       "      <td>...</td>\n",
       "    </tr>\n",
       "    <tr>\n",
       "      <th>765021</th>\n",
       "      <td>1002500</td>\n",
       "      <td>1001110100</td>\n",
       "      <td>0.0</td>\n",
       "    </tr>\n",
       "    <tr>\n",
       "      <th>765022</th>\n",
       "      <td>1001002</td>\n",
       "      <td>1003250001</td>\n",
       "      <td>0.0</td>\n",
       "    </tr>\n",
       "    <tr>\n",
       "      <th>765023</th>\n",
       "      <td>1001002</td>\n",
       "      <td>1003230001</td>\n",
       "      <td>0.0</td>\n",
       "    </tr>\n",
       "    <tr>\n",
       "      <th>765024</th>\n",
       "      <td>1002000</td>\n",
       "      <td>1003560001</td>\n",
       "      <td>0.0</td>\n",
       "    </tr>\n",
       "    <tr>\n",
       "      <th>765025</th>\n",
       "      <td>1001001</td>\n",
       "      <td>1003210001</td>\n",
       "      <td>0.0</td>\n",
       "    </tr>\n",
       "  </tbody>\n",
       "</table>\n",
       "<p>765026 rows × 3 columns</p>\n",
       "</div>"
      ],
      "text/plain": [
       "        boroct2010         bbl  prob_vacate_bl\n",
       "0          1018100  1012090027             0.0\n",
       "1          1018100  1012090028             0.0\n",
       "2          1018100  1012090037             0.0\n",
       "3          1018100  1012090049             0.0\n",
       "4          1018100  1012090051             0.0\n",
       "...            ...         ...             ...\n",
       "765021     1002500  1001110100             0.0\n",
       "765022     1001002  1003250001             0.0\n",
       "765023     1001002  1003230001             0.0\n",
       "765024     1002000  1003560001             0.0\n",
       "765025     1001001  1003210001             0.0\n",
       "\n",
       "[765026 rows x 3 columns]"
      ]
     },
     "execution_count": 52,
     "metadata": {},
     "output_type": "execute_result"
    }
   ],
   "source": [
    "# pred_prob_allbld = pd.concat([df.loc[:, [\"boroct2010\", \"bbl\"]], \n",
    "#                             pd.DataFrame(preds,\n",
    "#                                         columns = [\"prob_vacate_bl\"])], axis = 1)\n",
    "# pred_prob_allbld"
   ]
  },
  {
   "cell_type": "code",
   "execution_count": 52,
   "metadata": {},
   "outputs": [
    {
     "data": {
      "image/png": "[encoded data removed]",
      "text/plain": [
       "<Figure size 720x720 with 1 Axes>"
      ]
     },
     "metadata": {
      "needs_background": "light"
     },
     "output_type": "display_data"
    }
   ],
   "source": [
    "from sklearn.metrics import confusion_matrix\n",
    "from sklearn.metrics import precision_score, recall_score, f1_score, accuracy_score\n",
    "\n",
    "# y_pred = clf.predict(X_test)\n",
    "#\n",
    "# Calculate the confusion matrix\n",
    "#\n",
    "conf_matrix = confusion_matrix(y_true=Y_test, y_pred=preds)\n",
    "#\n",
    "# Print the confusion matrix using Matplotlib\n",
    "#\n",
    "fig, ax = pl.subplots(figsize=(10, 10))\n",
    "ax.matshow(conf_matrix, cmap=pl.cm.Oranges, alpha=0.3)\n",
    "for i in range(conf_matrix.shape[0]):\n",
    "    for j in range(conf_matrix.shape[1]):\n",
    "        ax.text(x=j, y=i,s=conf_matrix[i, j], va='center', ha='center', size='xx-large')\n",
    " \n",
    "pl.xlabel('Predictions', fontsize=18)\n",
    "pl.ylabel('Actuals', fontsize=18)\n",
    "pl.title('Confusion Matrix', fontsize=18)\n",
    "pl.show()\n"
   ]
  },
  {
   "cell_type": "markdown",
   "metadata": {},
   "source": [
    "### PART 2: Alarm Box Tracts"
   ]
  },
  {
   "cell_type": "code",
   "execution_count": 18,
   "metadata": {},
   "outputs": [],
   "source": [
    "csv = drive.CreateFile({'id': '1Vzjvta98IG9Hg4SfAGcd8JD8FaF3IXwy'})\n",
    "# Title: analysis_box.csv, ID: 1Vzjvta98IG9Hg4SfAGcd8JD8FaF3IXwy\n",
    "csv.GetContentFile('analysis_box.csv')  \n",
    "\n",
    "df = pd.read_csv('analysis_box.csv')"
   ]
  },
  {
   "cell_type": "code",
   "execution_count": 19,
   "metadata": {},
   "outputs": [],
   "source": [
    "df_box = df\n",
    "df_box['num_fire_ev_cat'] = pd.qcut(df_box[\"num_fire_ev\"], 4, labels=False)\n",
    "df_box['fire_ev_dummy'] = np.where(df_box['num_fire_ev_cat'] == 3, 1, 0)"
   ]
  },
  {
   "cell_type": "code",
   "execution_count": 20,
   "metadata": {},
   "outputs": [
    {
     "data": {
      "text/plain": [
       "2            totpop\n",
       "3           popdens\n",
       "4        areasqmile\n",
       "5             males\n",
       "6           females\n",
       "           ...     \n",
       "164    bldgclass_A2\n",
       "165    bldgclass_A0\n",
       "166    bldgclass_A6\n",
       "167    bldgclass_A8\n",
       "168    bldgclass_CM\n",
       "Name: Variable, Length: 150, dtype: object"
      ]
     },
     "execution_count": 20,
     "metadata": {},
     "output_type": "execute_result"
    }
   ],
   "source": [
    "predictors_full = codebk.loc[codebk[\"Include_Box\"] == 1, \"Variable\"].apply(lambda x: x.strip())\n",
    "predictors_full"
   ]
  },
  {
   "cell_type": "code",
   "execution_count": 21,
   "metadata": {},
   "outputs": [],
   "source": [
    "X = df_box.loc[:, predictors_full]\n",
    "Y = df_box[[\"fire_ev_dummy\"]]"
   ]
  },
  {
   "cell_type": "code",
   "execution_count": 22,
   "metadata": {},
   "outputs": [],
   "source": [
    "from sklearn import preprocessing\n",
    "min_max_scaler = preprocessing.MinMaxScaler()\n",
    "resultsScaled = min_max_scaler.fit_transform(X)\n",
    "X = resultsScaled"
   ]
  },
  {
   "cell_type": "code",
   "execution_count": 23,
   "metadata": {},
   "outputs": [],
   "source": [
    "from sklearn.model_selection import train_test_split\n",
    "X_train, X_test, Y_train, Y_test = train_test_split(X, Y, test_size=0.33, random_state=90)"
   ]
  },
  {
   "cell_type": "code",
   "execution_count": 24,
   "metadata": {},
   "outputs": [
    {
     "data": {
      "text/plain": [
       "(7278,)"
      ]
     },
     "execution_count": 24,
     "metadata": {},
     "output_type": "execute_result"
    }
   ],
   "source": [
    "X_hadFires = pd.DataFrame(X_train[Y_train[\"fire_ev_dummy\"] == 1])\n",
    "X_noFires = pd.DataFrame(X_train[Y_train[\"fire_ev_dummy\"] == 0])\n",
    "X_noFires = X_noFires\n",
    "\n",
    "Y_hadFires = Y_train.loc[Y_train[\"fire_ev_dummy\"] == 1, \"fire_ev_dummy\"]\n",
    "Y_noFires = Y_train.loc[Y_train[\"fire_ev_dummy\"] == 0, \"fire_ev_dummy\"]\n",
    "\n",
    "X_train_sub = pd.concat([X_hadFires, X_noFires], axis=0)\n",
    "Y_train_sub = pd.concat([Y_hadFires, Y_noFires], axis=0)\n",
    "Y_train_sub.shape"
   ]
  },
  {
   "cell_type": "code",
   "execution_count": 25,
   "metadata": {},
   "outputs": [
    {
     "data": {
      "text/plain": [
       "LinearSVC(random_state=0, tol=0.1)"
      ]
     },
     "execution_count": 25,
     "metadata": {},
     "output_type": "execute_result"
    }
   ],
   "source": [
    "clf.fit(X_train_sub, np.asarray(Y_train_sub))"
   ]
  },
  {
   "cell_type": "code",
   "execution_count": 62,
   "metadata": {},
   "outputs": [
    {
     "name": "stdout",
     "output_type": "stream",
     "text": [
      "Out of sample, linear model successfully predicts 0.839654210819855 percent of the data\n"
     ]
    }
   ],
   "source": [
    "correct=1.0*(clf.predict(X_test) == np.asarray(Y_test).reshape(1,X_test.shape[0])).sum()/len(Y_test)\n",
    "print(\"Out of sample, linear model successfully predicts {} percent of the data\".format((correct)))"
   ]
  },
  {
   "cell_type": "code",
   "execution_count": 26,
   "metadata": {},
   "outputs": [
    {
     "name": "stdout",
     "output_type": "stream",
     "text": [
      "accuracy:  0.839654210819855\n",
      "precision:  0.7515432098765432\n",
      "recall:  0.5405105438401776\n",
      "f1:  0.6287927695287283\n",
      "area under curve (auc):  0.7402738938940181\n"
     ]
    }
   ],
   "source": [
    "from sklearn import metrics\n",
    "preds = clf.predict(X_test)\n",
    "# X_train, X_test, Y_train, Y_test\n",
    "targs = Y_test\n",
    "print(\"accuracy: \", metrics.accuracy_score(targs, preds))\n",
    "print(\"precision: \", metrics.precision_score(targs, preds)) \n",
    "print(\"recall: \", metrics.recall_score(targs, preds))\n",
    "print(\"f1: \", metrics.f1_score(targs, preds))\n",
    "print(\"area under curve (auc): \", metrics.roc_auc_score(targs, preds))\n",
    "test_preds = preds"
   ]
  },
  {
   "cell_type": "code",
   "execution_count": null,
   "metadata": {},
   "outputs": [],
   "source": []
  }
 ],
 "metadata": {
  "interpreter": {
   "hash": "af5686e283958092440dcdf775f47c2182d5388add5813790c587b77c0150b91"
  },
  "kernelspec": {
   "display_name": "Python 3.10.4 ('geo_env')",
   "language": "python",
   "name": "python3"
  },
  "language_info": {
   "codemirror_mode": {
    "name": "ipython",
    "version": 3
   },
   "file_extension": ".py",
   "mimetype": "text/x-python",
   "name": "python",
   "nbconvert_exporter": "python",
   "pygments_lexer": "ipython3",
   "version": "3.10.4"
  },
  "orig_nbformat": 4
 },
 "nbformat": 4,
 "nbformat_minor": 2
}
